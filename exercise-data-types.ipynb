{
 "cells": [
  {
   "cell_type": "markdown",
   "id": "7bddc313",
   "metadata": {
    "papermill": {
     "duration": 0.006005,
     "end_time": "2025-02-26T14:16:23.211351",
     "exception": false,
     "start_time": "2025-02-26T14:16:23.205346",
     "status": "completed"
    },
    "tags": []
   },
   "source": [
    "**This notebook is an exercise in the [Intro to Programming](https://www.kaggle.com/learn/intro-to-programming) course.  You can reference the tutorial at [this link](https://www.kaggle.com/alexisbcook/data-types).**\n",
    "\n",
    "---\n"
   ]
  },
  {
   "cell_type": "markdown",
   "id": "c0612b18",
   "metadata": {
    "papermill": {
     "duration": 0.004931,
     "end_time": "2025-02-26T14:16:23.221728",
     "exception": false,
     "start_time": "2025-02-26T14:16:23.216797",
     "status": "completed"
    },
    "tags": []
   },
   "source": [
    "In the tutorial, you learned about four different data types: floats, integers, strings, and booleans.  In this exercise, you'll experiment with them.\n",
    "\n",
    "# Set up the notebook\n",
    "\n",
    "Run the next code cell without changes to set up the notebook."
   ]
  },
  {
   "cell_type": "code",
   "execution_count": 1,
   "id": "d01da7b7",
   "metadata": {
    "execution": {
     "iopub.execute_input": "2025-02-26T14:16:23.233547Z",
     "iopub.status.busy": "2025-02-26T14:16:23.233185Z",
     "iopub.status.idle": "2025-02-26T14:16:24.355795Z",
     "shell.execute_reply": "2025-02-26T14:16:24.354517Z"
    },
    "papermill": {
     "duration": 1.13092,
     "end_time": "2025-02-26T14:16:24.357799",
     "exception": false,
     "start_time": "2025-02-26T14:16:23.226879",
     "status": "completed"
    },
    "tags": []
   },
   "outputs": [
    {
     "name": "stdout",
     "output_type": "stream",
     "text": [
      "Setup complete.\n"
     ]
    }
   ],
   "source": [
    "# Set up the exercise\n",
    "from learntools.core import binder\n",
    "binder.bind(globals())\n",
    "from learntools.intro_to_programming.ex3 import *\n",
    "print('Setup complete.')"
   ]
  },
  {
   "cell_type": "markdown",
   "id": "81a33492",
   "metadata": {
    "papermill": {
     "duration": 0.005074,
     "end_time": "2025-02-26T14:16:24.369372",
     "exception": false,
     "start_time": "2025-02-26T14:16:24.364298",
     "status": "completed"
    },
    "tags": []
   },
   "source": [
    "# Question 1\n",
    "\n",
    "You have seen how to convert a float to an integer with the `int` function.  Try this out yourself by running the code cell below."
   ]
  },
  {
   "cell_type": "code",
   "execution_count": 2,
   "id": "3fb42278",
   "metadata": {
    "execution": {
     "iopub.execute_input": "2025-02-26T14:16:24.381262Z",
     "iopub.status.busy": "2025-02-26T14:16:24.380772Z",
     "iopub.status.idle": "2025-02-26T14:16:24.387153Z",
     "shell.execute_reply": "2025-02-26T14:16:24.386148Z"
    },
    "papermill": {
     "duration": 0.014365,
     "end_time": "2025-02-26T14:16:24.389048",
     "exception": false,
     "start_time": "2025-02-26T14:16:24.374683",
     "status": "completed"
    },
    "tags": []
   },
   "outputs": [
    {
     "name": "stdout",
     "output_type": "stream",
     "text": [
      "1.0\n",
      "<class 'float'>\n",
      "1\n",
      "<class 'int'>\n"
     ]
    }
   ],
   "source": [
    "# Define a float\n",
    "y = 1.\n",
    "print(y)\n",
    "print(type(y))\n",
    "\n",
    "# Convert float to integer with the int function\n",
    "z = int(y)\n",
    "print(z)\n",
    "print(type(z))"
   ]
  },
  {
   "cell_type": "markdown",
   "id": "abdfeab1",
   "metadata": {
    "papermill": {
     "duration": 0.005022,
     "end_time": "2025-02-26T14:16:24.399715",
     "exception": false,
     "start_time": "2025-02-26T14:16:24.394693",
     "status": "completed"
    },
    "tags": []
   },
   "source": [
    "In this case, the float you are using has no numbers after the decimal.  \n",
    "- But what happens when you try to convert a float with a fractional part to an integer?  \n",
    "- How does the outcome of the `int` function change for positive and negative numbers?\n",
    "\n",
    "Use the next code cell to investigate and answer these questions.  Feel free to add or remove any lines of code -- it is your workspace!"
   ]
  },
  {
   "cell_type": "code",
   "execution_count": 3,
   "id": "192a8586",
   "metadata": {
    "execution": {
     "iopub.execute_input": "2025-02-26T14:16:24.411495Z",
     "iopub.status.busy": "2025-02-26T14:16:24.411177Z",
     "iopub.status.idle": "2025-02-26T14:16:24.416875Z",
     "shell.execute_reply": "2025-02-26T14:16:24.415535Z"
    },
    "papermill": {
     "duration": 0.013633,
     "end_time": "2025-02-26T14:16:24.418698",
     "exception": false,
     "start_time": "2025-02-26T14:16:24.405065",
     "status": "completed"
    },
    "tags": []
   },
   "outputs": [
    {
     "name": "stdout",
     "output_type": "stream",
     "text": [
      "1\n",
      "1\n",
      "-3\n",
      "-2\n"
     ]
    }
   ],
   "source": [
    "# Uncomment and run this code to get started!\n",
    "print(int(1.2321))\n",
    "print(int(1.747))\n",
    "print(int(-3.94535))\n",
    "print(int(-2.19774))"
   ]
  },
  {
   "cell_type": "markdown",
   "id": "e5a8dbc1",
   "metadata": {
    "papermill": {
     "duration": 0.005444,
     "end_time": "2025-02-26T14:16:24.429701",
     "exception": false,
     "start_time": "2025-02-26T14:16:24.424257",
     "status": "completed"
    },
    "tags": []
   },
   "source": [
    "Once you have an answer, run the code cell below to see the solution.  Viewing the solution will give you credit for answering the problem."
   ]
  },
  {
   "cell_type": "code",
   "execution_count": 4,
   "id": "82933dec",
   "metadata": {
    "execution": {
     "iopub.execute_input": "2025-02-26T14:16:24.441555Z",
     "iopub.status.busy": "2025-02-26T14:16:24.441233Z",
     "iopub.status.idle": "2025-02-26T14:16:24.450031Z",
     "shell.execute_reply": "2025-02-26T14:16:24.448835Z"
    },
    "papermill": {
     "duration": 0.016589,
     "end_time": "2025-02-26T14:16:24.451694",
     "exception": false,
     "start_time": "2025-02-26T14:16:24.435105",
     "status": "completed"
    },
    "tags": []
   },
   "outputs": [
    {
     "data": {
      "application/javascript": [
       "parent.postMessage({\"jupyterEvent\": \"custom.exercise_interaction\", \"data\": {\"outcomeType\": 1, \"valueTowardsCompletion\": 0.2, \"interactionType\": 1, \"questionType\": 4, \"questionId\": \"1_FloatToInt\", \"learnToolsVersion\": \"0.3.4\", \"failureMessage\": \"\", \"exceptionClass\": \"\", \"trace\": \"\"}}, \"*\")"
      ],
      "text/plain": [
       "<IPython.core.display.Javascript object>"
      ]
     },
     "metadata": {},
     "output_type": "display_data"
    },
    {
     "data": {
      "text/markdown": [
       "<span style=\"color:#33cc33\">Correct:</span> \n",
       "\n",
       "Negative floats are always rounded UP to the closest integer (for instance, both -1.1 and -1.9 are rounded up to -1). Positive floats are always rounded DOWN to the closest integer (for instance, 2.1 and 2.9 are rounded down to 2)."
      ],
      "text/plain": [
       "Correct: \n",
       "\n",
       "Negative floats are always rounded UP to the closest integer (for instance, both -1.1 and -1.9 are rounded up to -1). Positive floats are always rounded DOWN to the closest integer (for instance, 2.1 and 2.9 are rounded down to 2)."
      ]
     },
     "metadata": {},
     "output_type": "display_data"
    }
   ],
   "source": [
    "# Check your answer (Run this code cell to receive credit!)\n",
    "q1.check()"
   ]
  },
  {
   "cell_type": "markdown",
   "id": "b5ab90e2",
   "metadata": {
    "papermill": {
     "duration": 0.00549,
     "end_time": "2025-02-26T14:16:24.463056",
     "exception": false,
     "start_time": "2025-02-26T14:16:24.457566",
     "status": "completed"
    },
    "tags": []
   },
   "source": [
    "# Question 2\n",
    "\n",
    "In the tutorial, you learned about booleans (which can take a value of `True` or `False`), in addition to integers, floats, and strings.  For this question, your goal is to determine what happens when you multiply a boolean by any of these data types.  Specifically, \n",
    "- What happens when you multiply an integer or float by `True`?  What happens when you multiply them by `False`?  How does the answer change if the numbers are positive or negative?\n",
    "- What happens when you multiply a string by `True`?  By `False`?\n",
    "\n",
    "Use the next code cell for your investigation. "
   ]
  },
  {
   "cell_type": "code",
   "execution_count": 5,
   "id": "fc89eca6",
   "metadata": {
    "execution": {
     "iopub.execute_input": "2025-02-26T14:16:24.475586Z",
     "iopub.status.busy": "2025-02-26T14:16:24.475261Z",
     "iopub.status.idle": "2025-02-26T14:16:24.481510Z",
     "shell.execute_reply": "2025-02-26T14:16:24.480333Z"
    },
    "papermill": {
     "duration": 0.014488,
     "end_time": "2025-02-26T14:16:24.483232",
     "exception": false,
     "start_time": "2025-02-26T14:16:24.468744",
     "status": "completed"
    },
    "tags": []
   },
   "outputs": [
    {
     "name": "stdout",
     "output_type": "stream",
     "text": [
      "3\n",
      "-3.1\n",
      "<class 'str'>\n",
      "0\n"
     ]
    }
   ],
   "source": [
    "# Uncomment and run this code to get started!\n",
    "print(3 * True)\n",
    "print(-3.1 * True)\n",
    "print(type(\"abc\" * False))\n",
    "print(len(\"abc\" * False))"
   ]
  },
  {
   "cell_type": "markdown",
   "id": "f437f9a8",
   "metadata": {
    "papermill": {
     "duration": 0.005713,
     "end_time": "2025-02-26T14:16:24.495034",
     "exception": false,
     "start_time": "2025-02-26T14:16:24.489321",
     "status": "completed"
    },
    "tags": []
   },
   "source": [
    "Once you have an answer, run the code cell below to see the solution.  Viewing the solution will give you credit for answering the problem."
   ]
  },
  {
   "cell_type": "code",
   "execution_count": 6,
   "id": "46bd42da",
   "metadata": {
    "execution": {
     "iopub.execute_input": "2025-02-26T14:16:24.507723Z",
     "iopub.status.busy": "2025-02-26T14:16:24.507360Z",
     "iopub.status.idle": "2025-02-26T14:16:24.514457Z",
     "shell.execute_reply": "2025-02-26T14:16:24.513372Z"
    },
    "papermill": {
     "duration": 0.015395,
     "end_time": "2025-02-26T14:16:24.516263",
     "exception": false,
     "start_time": "2025-02-26T14:16:24.500868",
     "status": "completed"
    },
    "tags": []
   },
   "outputs": [
    {
     "data": {
      "application/javascript": [
       "parent.postMessage({\"jupyterEvent\": \"custom.exercise_interaction\", \"data\": {\"outcomeType\": 1, \"valueTowardsCompletion\": 0.2, \"interactionType\": 1, \"questionType\": 4, \"questionId\": \"2_MultiplyBooleans\", \"learnToolsVersion\": \"0.3.4\", \"failureMessage\": \"\", \"exceptionClass\": \"\", \"trace\": \"\"}}, \"*\")"
      ],
      "text/plain": [
       "<IPython.core.display.Javascript object>"
      ]
     },
     "metadata": {},
     "output_type": "display_data"
    },
    {
     "data": {
      "text/markdown": [
       "<span style=\"color:#33cc33\">Correct:</span> \n",
       "\n",
       "When you multiple an integer or float by a boolean with value `True`, it just returns that same integer or float (and is equivalent to multiplying by 1).  If you multiply an integer or float by a boolean with value `False`, it always returns 0.  This is true for both positive and negative numbers.  If you multiply a string by a boolean with value `True`, it just returns that same string.  And if you multiply a string by a boolean with value `False`, it returns an empty string (or a string with length zero)."
      ],
      "text/plain": [
       "Correct: \n",
       "\n",
       "When you multiple an integer or float by a boolean with value `True`, it just returns that same integer or float (and is equivalent to multiplying by 1).  If you multiply an integer or float by a boolean with value `False`, it always returns 0.  This is true for both positive and negative numbers.  If you multiply a string by a boolean with value `True`, it just returns that same string.  And if you multiply a string by a boolean with value `False`, it returns an empty string (or a string with length zero)."
      ]
     },
     "metadata": {},
     "output_type": "display_data"
    }
   ],
   "source": [
    "# Check your answer (Run this code cell to receive credit!)\n",
    "q2.check()"
   ]
  },
  {
   "cell_type": "markdown",
   "id": "4af65f41",
   "metadata": {
    "papermill": {
     "duration": 0.005769,
     "end_time": "2025-02-26T14:16:24.528268",
     "exception": false,
     "start_time": "2025-02-26T14:16:24.522499",
     "status": "completed"
    },
    "tags": []
   },
   "source": [
    "# Question 3\n",
    "\n",
    "In this question, you will build off your work from the previous exercise to write a function that estimates the value of a house.\n",
    "\n",
    "Use the next code cell to create a function `get_expected_cost` that takes as input three variables:\n",
    "- `beds` - number of bedrooms (data type float)\n",
    "- `baths` - number of bathrooms (data type float)\n",
    "- `has_basement` - whether or not the house has a basement (data type boolean)\n",
    "\n",
    "It should return the expected cost of a house with those characteristics. Assume that:\n",
    "- the expected cost for a house with 0 bedrooms and 0 bathrooms, and no basement is 80000, \n",
    "- each bedroom adds 30000 to the expected cost,\n",
    "- each bathroom adds 10000 to the expected cost, and\n",
    "- a basement adds 40000 to the expected cost.\n",
    "\n",
    "For instance,\n",
    "- a house with 1 bedroom, 1 bathroom, and no basement has an expected cost of 80000 + 30000 + 10000 = 120000.  This value will be calculated with `get_expected_cost(1, 1, False)`.\n",
    "- a house with 2 bedrooms, 1 bathroom, and a basement has an expected cost of 80000 + 2*30000 + 10000 + 40000 = 190000.  This value will be calculated with `get_expected_cost(2, 1, True)`.\n",
    "\n",
    "Remember you can always get a hint by uncommenting `q3.hint()` in the code cell following the next!"
   ]
  },
  {
   "cell_type": "code",
   "execution_count": 7,
   "id": "7250f2b0",
   "metadata": {
    "execution": {
     "iopub.execute_input": "2025-02-26T14:16:24.541485Z",
     "iopub.status.busy": "2025-02-26T14:16:24.541171Z",
     "iopub.status.idle": "2025-02-26T14:16:24.549749Z",
     "shell.execute_reply": "2025-02-26T14:16:24.548556Z"
    },
    "papermill": {
     "duration": 0.017265,
     "end_time": "2025-02-26T14:16:24.551560",
     "exception": false,
     "start_time": "2025-02-26T14:16:24.534295",
     "status": "completed"
    },
    "tags": []
   },
   "outputs": [
    {
     "data": {
      "application/javascript": [
       "parent.postMessage({\"jupyterEvent\": \"custom.exercise_interaction\", \"data\": {\"outcomeType\": 1, \"valueTowardsCompletion\": 0.2, \"interactionType\": 1, \"questionType\": 2, \"questionId\": \"3_EstimateHouseValueBool\", \"learnToolsVersion\": \"0.3.4\", \"failureMessage\": \"\", \"exceptionClass\": \"\", \"trace\": \"\"}}, \"*\")"
      ],
      "text/plain": [
       "<IPython.core.display.Javascript object>"
      ]
     },
     "metadata": {},
     "output_type": "display_data"
    },
    {
     "data": {
      "text/markdown": [
       "<span style=\"color:#33cc33\">Correct</span>"
      ],
      "text/plain": [
       "Correct"
      ]
     },
     "metadata": {},
     "output_type": "display_data"
    }
   ],
   "source": [
    "# TODO: Complete the function\n",
    "def get_expected_cost(beds, baths, has_basement):\n",
    "    value =80000 +30000 *beds + 10000 * baths +40000 * has_basement\n",
    "    return value\n",
    "\n",
    "# Check your answer \n",
    "q3.check()"
   ]
  },
  {
   "cell_type": "code",
   "execution_count": 8,
   "id": "2a7e2319",
   "metadata": {
    "execution": {
     "iopub.execute_input": "2025-02-26T14:16:24.566451Z",
     "iopub.status.busy": "2025-02-26T14:16:24.566115Z",
     "iopub.status.idle": "2025-02-26T14:16:24.573679Z",
     "shell.execute_reply": "2025-02-26T14:16:24.572552Z"
    },
    "papermill": {
     "duration": 0.016993,
     "end_time": "2025-02-26T14:16:24.575338",
     "exception": false,
     "start_time": "2025-02-26T14:16:24.558345",
     "status": "completed"
    },
    "tags": []
   },
   "outputs": [
    {
     "data": {
      "application/javascript": [
       "parent.postMessage({\"jupyterEvent\": \"custom.exercise_interaction\", \"data\": {\"interactionType\": 3, \"questionType\": 2, \"questionId\": \"3_EstimateHouseValueBool\", \"learnToolsVersion\": \"0.3.4\", \"valueTowardsCompletion\": 0.0, \"failureMessage\": \"\", \"exceptionClass\": \"\", \"trace\": \"\", \"outcomeType\": 4}}, \"*\")"
      ],
      "text/plain": [
       "<IPython.core.display.Javascript object>"
      ]
     },
     "metadata": {},
     "output_type": "display_data"
    },
    {
     "data": {
      "text/markdown": [
       "<span style=\"color:#33cc99\">Solution:</span> \n",
       "```python\n",
       "def get_expected_cost(beds, baths, has_basement):\n",
       "    value = 80000 + 30000 * beds + 10000 * baths + 40000 * has_basement\n",
       "    return value\n",
       "\n",
       "```"
      ],
      "text/plain": [
       "Solution: \n",
       "```python\n",
       "def get_expected_cost(beds, baths, has_basement):\n",
       "    value = 80000 + 30000 * beds + 10000 * baths + 40000 * has_basement\n",
       "    return value\n",
       "\n",
       "```"
      ]
     },
     "metadata": {},
     "output_type": "display_data"
    }
   ],
   "source": [
    "# Uncomment to see a hint\n",
    "#q3.hint()\n",
    "\n",
    "# Uncomment to view the solution\n",
    "q3.solution()"
   ]
  },
  {
   "cell_type": "markdown",
   "id": "4ae354ea",
   "metadata": {
    "papermill": {
     "duration": 0.006767,
     "end_time": "2025-02-26T14:16:24.588656",
     "exception": false,
     "start_time": "2025-02-26T14:16:24.581889",
     "status": "completed"
    },
    "tags": []
   },
   "source": [
    "# Question 4\n",
    "\n",
    "We'll continue our study of boolean arithmetic.  For this question, your task is to provide a description of what happpens when you add booleans. \n",
    "\n",
    "Use the next code cell for your investigation.  Feel free to add or remove any lines of code - use it as your workspace!"
   ]
  },
  {
   "cell_type": "code",
   "execution_count": 9,
   "id": "d809a277",
   "metadata": {
    "execution": {
     "iopub.execute_input": "2025-02-26T14:16:24.602427Z",
     "iopub.status.busy": "2025-02-26T14:16:24.602111Z",
     "iopub.status.idle": "2025-02-26T14:16:24.608175Z",
     "shell.execute_reply": "2025-02-26T14:16:24.607047Z"
    },
    "papermill": {
     "duration": 0.014958,
     "end_time": "2025-02-26T14:16:24.609975",
     "exception": false,
     "start_time": "2025-02-26T14:16:24.595017",
     "status": "completed"
    },
    "tags": []
   },
   "outputs": [
    {
     "name": "stdout",
     "output_type": "stream",
     "text": [
      "0\n",
      "1\n",
      "1\n",
      "2\n",
      "3\n"
     ]
    }
   ],
   "source": [
    "print(False + False)\n",
    "print(True + False)\n",
    "print(False + True)\n",
    "print(True + True)\n",
    "print(False + True + True + True)"
   ]
  },
  {
   "cell_type": "markdown",
   "id": "fb450caa",
   "metadata": {
    "papermill": {
     "duration": 0.006137,
     "end_time": "2025-02-26T14:16:24.623672",
     "exception": false,
     "start_time": "2025-02-26T14:16:24.617535",
     "status": "completed"
    },
    "tags": []
   },
   "source": [
    "Once you have an answer, run the code cell below to see the solution.  Viewing the solution will give you credit for answering the problem."
   ]
  },
  {
   "cell_type": "code",
   "execution_count": 10,
   "id": "0520aeee",
   "metadata": {
    "execution": {
     "iopub.execute_input": "2025-02-26T14:16:24.637780Z",
     "iopub.status.busy": "2025-02-26T14:16:24.637390Z",
     "iopub.status.idle": "2025-02-26T14:16:24.644745Z",
     "shell.execute_reply": "2025-02-26T14:16:24.643728Z"
    },
    "papermill": {
     "duration": 0.016316,
     "end_time": "2025-02-26T14:16:24.646369",
     "exception": false,
     "start_time": "2025-02-26T14:16:24.630053",
     "status": "completed"
    },
    "tags": []
   },
   "outputs": [
    {
     "data": {
      "application/javascript": [
       "parent.postMessage({\"jupyterEvent\": \"custom.exercise_interaction\", \"data\": {\"outcomeType\": 1, \"valueTowardsCompletion\": 0.2, \"interactionType\": 1, \"questionType\": 4, \"questionId\": \"4_AddingBooleans\", \"learnToolsVersion\": \"0.3.4\", \"failureMessage\": \"\", \"exceptionClass\": \"\", \"trace\": \"\"}}, \"*\")"
      ],
      "text/plain": [
       "<IPython.core.display.Javascript object>"
      ]
     },
     "metadata": {},
     "output_type": "display_data"
    },
    {
     "data": {
      "text/markdown": [
       "<span style=\"color:#33cc33\">Correct:</span> \n",
       "\n",
       "When you add booleans, adding `False` is equivalent to adding 0, and adding `True` is equivalent to adding 1."
      ],
      "text/plain": [
       "Correct: \n",
       "\n",
       "When you add booleans, adding `False` is equivalent to adding 0, and adding `True` is equivalent to adding 1."
      ]
     },
     "metadata": {},
     "output_type": "display_data"
    }
   ],
   "source": [
    "# Check your answer (Run this code cell to receive credit!)\n",
    "q4.check()"
   ]
  },
  {
   "cell_type": "markdown",
   "id": "596315f2",
   "metadata": {
    "papermill": {
     "duration": 0.006215,
     "end_time": "2025-02-26T14:16:24.659298",
     "exception": false,
     "start_time": "2025-02-26T14:16:24.653083",
     "status": "completed"
    },
    "tags": []
   },
   "source": [
    "# 🌶️ Question 5\n",
    "\n",
    "You own an online shop where you sell rings with custom engravings.  You offer both gold plated and solid gold rings.\n",
    "- Gold plated rings have a base cost of \\\\$50, and you charge \\\\$7 per engraved unit.  \n",
    "- Solid gold rings have a base cost of \\\\$100, and you charge \\\\$10 per engraved unit.\n",
    "- Spaces and punctuation are counted as engraved units.\n",
    "\n",
    "Write a function `cost_of_project()` that takes two arguments:\n",
    "- `engraving` - a Python string with the text of the engraving\n",
    "- `solid_gold` - a Boolean that indicates whether the ring is solid gold\n",
    "\n",
    "It should return the cost of the project.  This question should be fairly challenging, and you may need a hint."
   ]
  },
  {
   "cell_type": "code",
   "execution_count": 11,
   "id": "7b089e2f",
   "metadata": {
    "execution": {
     "iopub.execute_input": "2025-02-26T14:16:24.674276Z",
     "iopub.status.busy": "2025-02-26T14:16:24.673912Z",
     "iopub.status.idle": "2025-02-26T14:16:24.681753Z",
     "shell.execute_reply": "2025-02-26T14:16:24.680725Z"
    },
    "papermill": {
     "duration": 0.017081,
     "end_time": "2025-02-26T14:16:24.683437",
     "exception": false,
     "start_time": "2025-02-26T14:16:24.666356",
     "status": "completed"
    },
    "tags": []
   },
   "outputs": [
    {
     "data": {
      "application/javascript": [
       "parent.postMessage({\"jupyterEvent\": \"custom.exercise_interaction\", \"data\": {\"outcomeType\": 1, \"valueTowardsCompletion\": 0.2, \"interactionType\": 1, \"questionType\": 2, \"questionId\": \"5_CustomEngravings\", \"learnToolsVersion\": \"0.3.4\", \"failureMessage\": \"\", \"exceptionClass\": \"\", \"trace\": \"\"}}, \"*\")"
      ],
      "text/plain": [
       "<IPython.core.display.Javascript object>"
      ]
     },
     "metadata": {},
     "output_type": "display_data"
    },
    {
     "data": {
      "text/markdown": [
       "<span style=\"color:#33cc33\">Correct</span>"
      ],
      "text/plain": [
       "Correct"
      ]
     },
     "metadata": {},
     "output_type": "display_data"
    }
   ],
   "source": [
    "def cost_of_project(engraving, solid_gold):\n",
    "    cost = solid_gold * (100 + 10 * len(engraving)) +(not solid_gold) * (50 + 7 * len(engraving))\n",
    "    return cost\n",
    "\n",
    "# Check your answer\n",
    "q5.check()"
   ]
  },
  {
   "cell_type": "code",
   "execution_count": 12,
   "id": "18c39c8b",
   "metadata": {
    "execution": {
     "iopub.execute_input": "2025-02-26T14:16:24.698533Z",
     "iopub.status.busy": "2025-02-26T14:16:24.698146Z",
     "iopub.status.idle": "2025-02-26T14:16:24.705243Z",
     "shell.execute_reply": "2025-02-26T14:16:24.704253Z"
    },
    "papermill": {
     "duration": 0.0166,
     "end_time": "2025-02-26T14:16:24.706961",
     "exception": false,
     "start_time": "2025-02-26T14:16:24.690361",
     "status": "completed"
    },
    "tags": []
   },
   "outputs": [
    {
     "data": {
      "application/javascript": [
       "parent.postMessage({\"jupyterEvent\": \"custom.exercise_interaction\", \"data\": {\"interactionType\": 3, \"questionType\": 2, \"questionId\": \"5_CustomEngravings\", \"learnToolsVersion\": \"0.3.4\", \"valueTowardsCompletion\": 0.0, \"failureMessage\": \"\", \"exceptionClass\": \"\", \"trace\": \"\", \"outcomeType\": 4}}, \"*\")"
      ],
      "text/plain": [
       "<IPython.core.display.Javascript object>"
      ]
     },
     "metadata": {},
     "output_type": "display_data"
    },
    {
     "data": {
      "text/markdown": [
       "<span style=\"color:#33cc99\">Solution:</span> \n",
       "```python\n",
       "def cost_of_project(engraving, solid_gold):\n",
       "    cost = solid_gold * (100 + 10 * len(engraving)) + (not solid_gold) * (50 + 7 * len(engraving))\n",
       "    return cost\n",
       "\n",
       "```"
      ],
      "text/plain": [
       "Solution: \n",
       "```python\n",
       "def cost_of_project(engraving, solid_gold):\n",
       "    cost = solid_gold * (100 + 10 * len(engraving)) + (not solid_gold) * (50 + 7 * len(engraving))\n",
       "    return cost\n",
       "\n",
       "```"
      ]
     },
     "metadata": {},
     "output_type": "display_data"
    }
   ],
   "source": [
    "# Uncomment to see a hint\n",
    "#q5.hint()\n",
    "\n",
    "# Uncomment to view the solution\n",
    "q5.solution()"
   ]
  },
  {
   "cell_type": "markdown",
   "id": "f74a3626",
   "metadata": {
    "papermill": {
     "duration": 0.00698,
     "end_time": "2025-02-26T14:16:24.721171",
     "exception": false,
     "start_time": "2025-02-26T14:16:24.714191",
     "status": "completed"
    },
    "tags": []
   },
   "source": [
    "Run the next code cell to calculate the cost of engraving `Charlie+Denver` on a solid gold ring."
   ]
  },
  {
   "cell_type": "code",
   "execution_count": 13,
   "id": "efdb4492",
   "metadata": {
    "execution": {
     "iopub.execute_input": "2025-02-26T14:16:24.736377Z",
     "iopub.status.busy": "2025-02-26T14:16:24.736062Z",
     "iopub.status.idle": "2025-02-26T14:16:24.741263Z",
     "shell.execute_reply": "2025-02-26T14:16:24.739985Z"
    },
    "papermill": {
     "duration": 0.014718,
     "end_time": "2025-02-26T14:16:24.742893",
     "exception": false,
     "start_time": "2025-02-26T14:16:24.728175",
     "status": "completed"
    },
    "tags": []
   },
   "outputs": [
    {
     "name": "stdout",
     "output_type": "stream",
     "text": [
      "240\n"
     ]
    }
   ],
   "source": [
    "project_one = cost_of_project(\"Charlie+Denver\", True)\n",
    "print(project_one)"
   ]
  },
  {
   "cell_type": "markdown",
   "id": "b6ae7d87",
   "metadata": {
    "papermill": {
     "duration": 0.006881,
     "end_time": "2025-02-26T14:16:24.757125",
     "exception": false,
     "start_time": "2025-02-26T14:16:24.750244",
     "status": "completed"
    },
    "tags": []
   },
   "source": [
    "Use the next code cell to calculate the cost of engraving `08/10/2000` on a gold plated ring."
   ]
  },
  {
   "cell_type": "code",
   "execution_count": 14,
   "id": "51c735f2",
   "metadata": {
    "execution": {
     "iopub.execute_input": "2025-02-26T14:16:24.772281Z",
     "iopub.status.busy": "2025-02-26T14:16:24.771947Z",
     "iopub.status.idle": "2025-02-26T14:16:24.777129Z",
     "shell.execute_reply": "2025-02-26T14:16:24.775826Z"
    },
    "papermill": {
     "duration": 0.014616,
     "end_time": "2025-02-26T14:16:24.778723",
     "exception": false,
     "start_time": "2025-02-26T14:16:24.764107",
     "status": "completed"
    },
    "tags": []
   },
   "outputs": [
    {
     "name": "stdout",
     "output_type": "stream",
     "text": [
      "120\n"
     ]
    }
   ],
   "source": [
    "project_two = cost_of_project(\"08/10/2000\", False)\n",
    "print(project_two)"
   ]
  },
  {
   "cell_type": "markdown",
   "id": "c8f6fcdc",
   "metadata": {
    "papermill": {
     "duration": 0.006622,
     "end_time": "2025-02-26T14:16:24.792563",
     "exception": false,
     "start_time": "2025-02-26T14:16:24.785941",
     "status": "completed"
    },
    "tags": []
   },
   "source": [
    "# Keep going\n",
    "\n",
    "Continue to the next lesson to **[learn about conditions and conditional statements](https://www.kaggle.com/alexisbcook/conditions-and-conditional-statements)**."
   ]
  },
  {
   "cell_type": "markdown",
   "id": "6b684a7c",
   "metadata": {
    "papermill": {
     "duration": 0.006701,
     "end_time": "2025-02-26T14:16:24.806196",
     "exception": false,
     "start_time": "2025-02-26T14:16:24.799495",
     "status": "completed"
    },
    "tags": []
   },
   "source": [
    "---\n",
    "\n",
    "\n",
    "\n",
    "\n",
    "*Have questions or comments? Visit the [course discussion forum](https://www.kaggle.com/learn/intro-to-programming/discussion) to chat with other learners.*"
   ]
  }
 ],
 "metadata": {
  "kaggle": {
   "accelerator": "none",
   "dataSources": [],
   "isGpuEnabled": false,
   "isInternetEnabled": false,
   "language": "python",
   "sourceType": "notebook"
  },
  "kernelspec": {
   "display_name": "Python 3",
   "language": "python",
   "name": "python3"
  },
  "language_info": {
   "codemirror_mode": {
    "name": "ipython",
    "version": 3
   },
   "file_extension": ".py",
   "mimetype": "text/x-python",
   "name": "python",
   "nbconvert_exporter": "python",
   "pygments_lexer": "ipython3",
   "version": "3.10.12"
  },
  "papermill": {
   "default_parameters": {},
   "duration": 5.078369,
   "end_time": "2025-02-26T14:16:25.434195",
   "environment_variables": {},
   "exception": null,
   "input_path": "__notebook__.ipynb",
   "output_path": "__notebook__.ipynb",
   "parameters": {},
   "start_time": "2025-02-26T14:16:20.355826",
   "version": "2.3.3"
  }
 },
 "nbformat": 4,
 "nbformat_minor": 5
}
