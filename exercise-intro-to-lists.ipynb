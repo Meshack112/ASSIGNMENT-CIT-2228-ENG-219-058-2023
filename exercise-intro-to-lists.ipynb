{
 "cells": [
  {
   "cell_type": "markdown",
   "id": "18825989",
   "metadata": {
    "papermill": {
     "duration": 0.005949,
     "end_time": "2025-02-26T15:53:33.139704",
     "exception": false,
     "start_time": "2025-02-26T15:53:33.133755",
     "status": "completed"
    },
    "tags": []
   },
   "source": [
    "**This notebook is an exercise in the [Intro to Programming](https://www.kaggle.com/learn/intro-to-programming) course.  You can reference the tutorial at [this link](https://www.kaggle.com/alexisbcook/intro-to-lists).**\n",
    "\n",
    "---\n"
   ]
  },
  {
   "cell_type": "markdown",
   "id": "a506eb4a",
   "metadata": {
    "papermill": {
     "duration": 0.004927,
     "end_time": "2025-02-26T15:53:33.150149",
     "exception": false,
     "start_time": "2025-02-26T15:53:33.145222",
     "status": "completed"
    },
    "tags": []
   },
   "source": [
    "In the tutorial, you learned how to define and modify Python lists.  In this exercise, you will use your new knowledge to solve several problems.\n",
    "\n",
    "# Set up the notebook\n",
    "\n",
    "Run the next code cell without changes to set up the notebook."
   ]
  },
  {
   "cell_type": "code",
   "execution_count": 1,
   "id": "8734b8a9",
   "metadata": {
    "execution": {
     "iopub.execute_input": "2025-02-26T15:53:33.161944Z",
     "iopub.status.busy": "2025-02-26T15:53:33.161578Z",
     "iopub.status.idle": "2025-02-26T15:53:34.290350Z",
     "shell.execute_reply": "2025-02-26T15:53:34.289239Z"
    },
    "papermill": {
     "duration": 1.136908,
     "end_time": "2025-02-26T15:53:34.292258",
     "exception": false,
     "start_time": "2025-02-26T15:53:33.155350",
     "status": "completed"
    },
    "tags": []
   },
   "outputs": [
    {
     "name": "stdout",
     "output_type": "stream",
     "text": [
      "Setup complete.\n"
     ]
    }
   ],
   "source": [
    "from learntools.core import binder\n",
    "binder.bind(globals())\n",
    "from learntools.intro_to_programming.ex5 import *\n",
    "print('Setup complete.')"
   ]
  },
  {
   "cell_type": "markdown",
   "id": "fd952357",
   "metadata": {
    "papermill": {
     "duration": 0.005445,
     "end_time": "2025-02-26T15:53:34.303533",
     "exception": false,
     "start_time": "2025-02-26T15:53:34.298088",
     "status": "completed"
    },
    "tags": []
   },
   "source": [
    "# Question 1\n",
    "\n",
    "You own a restaurant with five food dishes, organized in the Python list `menu` below.  One day, you decide to:\n",
    "- remove bean soup (`'bean soup'`) from the menu, and\n",
    "- add roasted beet salad (`'roasted beet salad'`) to the menu.\n",
    "\n",
    "Implement this change to the list below.  While completing this task, \n",
    "- do not change the line that creates the `menu` list.  \n",
    "- your answer should use `.remove()` and `.append()`.  "
   ]
  },
  {
   "cell_type": "code",
   "execution_count": 2,
   "id": "7aa506e5",
   "metadata": {
    "execution": {
     "iopub.execute_input": "2025-02-26T15:53:34.316825Z",
     "iopub.status.busy": "2025-02-26T15:53:34.316301Z",
     "iopub.status.idle": "2025-02-26T15:53:34.325459Z",
     "shell.execute_reply": "2025-02-26T15:53:34.324459Z"
    },
    "papermill": {
     "duration": 0.017484,
     "end_time": "2025-02-26T15:53:34.326941",
     "exception": false,
     "start_time": "2025-02-26T15:53:34.309457",
     "status": "completed"
    },
    "tags": []
   },
   "outputs": [
    {
     "data": {
      "application/javascript": [
       "parent.postMessage({\"jupyterEvent\": \"custom.exercise_interaction\", \"data\": {\"outcomeType\": 1, \"valueTowardsCompletion\": 0.2, \"interactionType\": 1, \"questionType\": 2, \"questionId\": \"1_FoodMenu\", \"learnToolsVersion\": \"0.3.4\", \"failureMessage\": \"\", \"exceptionClass\": \"\", \"trace\": \"\"}}, \"*\")"
      ],
      "text/plain": [
       "<IPython.core.display.Javascript object>"
      ]
     },
     "metadata": {},
     "output_type": "display_data"
    },
    {
     "data": {
      "text/markdown": [
       "<span style=\"color:#33cc33\">Correct</span>"
      ],
      "text/plain": [
       "Correct"
      ]
     },
     "metadata": {},
     "output_type": "display_data"
    }
   ],
   "source": [
    "# Do not change: Initial menu for your restaurant\n",
    "menu = ['stewed meat with onions', 'bean soup', 'risotto with trout and shrimp',\n",
    "       'fish soup with cream and onion', 'gyro']\n",
    "\n",
    "# TODO: remove 'bean soup', and add 'roasted beet salad' to the end of the menu\n",
    "menu.remove('bean soup')\n",
    "menu.append('roasted beet salad')\n",
    "\n",
    "# Do not change: Check your answer\n",
    "q1.check()"
   ]
  },
  {
   "cell_type": "code",
   "execution_count": 3,
   "id": "3011d555",
   "metadata": {
    "execution": {
     "iopub.execute_input": "2025-02-26T15:53:34.339604Z",
     "iopub.status.busy": "2025-02-26T15:53:34.339261Z",
     "iopub.status.idle": "2025-02-26T15:53:34.343082Z",
     "shell.execute_reply": "2025-02-26T15:53:34.342141Z"
    },
    "papermill": {
     "duration": 0.012126,
     "end_time": "2025-02-26T15:53:34.344778",
     "exception": false,
     "start_time": "2025-02-26T15:53:34.332652",
     "status": "completed"
    },
    "tags": []
   },
   "outputs": [],
   "source": [
    "# Uncomment to see a hint\n",
    "#q1.hint()\n",
    "\n",
    "# Uncomment to see the solution\n",
    "#q1.solution()"
   ]
  },
  {
   "cell_type": "markdown",
   "id": "999a7c67",
   "metadata": {
    "papermill": {
     "duration": 0.005176,
     "end_time": "2025-02-26T15:53:34.355615",
     "exception": false,
     "start_time": "2025-02-26T15:53:34.350439",
     "status": "completed"
    },
    "tags": []
   },
   "source": [
    "# Question 2\n",
    "\n",
    "The list `num_customers` contains the number of customers who came into your restaurant every day over the last month (which lasted thirty days).  Fill in values for each of the following:\n",
    "- `avg_first_seven` - average number of customers who visited in the first seven days\n",
    "- `avg_last_seven` - average number of customers who visited in the last seven days\n",
    "- `max_month` - number of customers on the day that got the most customers in the last month\n",
    "- `min_month` - number of customers on the day that got the least customers in the last month\n",
    "\n",
    "Answer this question by writing code.  For instance, if you have to find the minimum value in a list, use `min()` instead of scanning for the smallest value and directly filling in a number."
   ]
  },
  {
   "cell_type": "code",
   "execution_count": 4,
   "id": "06cb5142",
   "metadata": {
    "execution": {
     "iopub.execute_input": "2025-02-26T15:53:34.367840Z",
     "iopub.status.busy": "2025-02-26T15:53:34.367485Z",
     "iopub.status.idle": "2025-02-26T15:53:34.376335Z",
     "shell.execute_reply": "2025-02-26T15:53:34.375273Z"
    },
    "papermill": {
     "duration": 0.016812,
     "end_time": "2025-02-26T15:53:34.377921",
     "exception": false,
     "start_time": "2025-02-26T15:53:34.361109",
     "status": "completed"
    },
    "tags": []
   },
   "outputs": [
    {
     "data": {
      "application/javascript": [
       "parent.postMessage({\"jupyterEvent\": \"custom.exercise_interaction\", \"data\": {\"outcomeType\": 1, \"valueTowardsCompletion\": 0.2, \"interactionType\": 1, \"questionType\": 1, \"questionId\": \"2_NumCustomers\", \"learnToolsVersion\": \"0.3.4\", \"failureMessage\": \"\", \"exceptionClass\": \"\", \"trace\": \"\"}}, \"*\")"
      ],
      "text/plain": [
       "<IPython.core.display.Javascript object>"
      ]
     },
     "metadata": {},
     "output_type": "display_data"
    },
    {
     "data": {
      "text/markdown": [
       "<span style=\"color:#33cc33\">Correct</span>"
      ],
      "text/plain": [
       "Correct"
      ]
     },
     "metadata": {},
     "output_type": "display_data"
    }
   ],
   "source": [
    "# Do not change: Number of customers each day for the last month\n",
    "num_customers = [137, 147, 135, 128, 170, 174, 165, 146, 126, 159,\n",
    "                 141, 148, 132, 147, 168, 153, 170, 161, 148, 152,\n",
    "                 141, 151, 131, 149, 164, 163, 143, 143, 166, 171]\n",
    "\n",
    "# TODO: Fill in values for the variables below\n",
    "avg_first_seven = sum(num_customers[:7])/7 \n",
    "avg_last_seven = sum(num_customers[-7:])/7\n",
    "max_month = max(num_customers)\n",
    "min_month = min(num_customers)\n",
    "\n",
    "# Do not change: Check your answer\n",
    "q2.check()"
   ]
  },
  {
   "cell_type": "code",
   "execution_count": 5,
   "id": "d04a60c3",
   "metadata": {
    "execution": {
     "iopub.execute_input": "2025-02-26T15:53:34.391023Z",
     "iopub.status.busy": "2025-02-26T15:53:34.390656Z",
     "iopub.status.idle": "2025-02-26T15:53:34.394480Z",
     "shell.execute_reply": "2025-02-26T15:53:34.393439Z"
    },
    "papermill": {
     "duration": 0.012377,
     "end_time": "2025-02-26T15:53:34.396246",
     "exception": false,
     "start_time": "2025-02-26T15:53:34.383869",
     "status": "completed"
    },
    "tags": []
   },
   "outputs": [],
   "source": [
    "# Uncomment to see a hint\n",
    "#q2.hint()\n",
    "\n",
    "# Uncomment to see the solution\n",
    "#q2.solution()"
   ]
  },
  {
   "cell_type": "markdown",
   "id": "458a140a",
   "metadata": {
    "papermill": {
     "duration": 0.00549,
     "end_time": "2025-02-26T15:53:34.407602",
     "exception": false,
     "start_time": "2025-02-26T15:53:34.402112",
     "status": "completed"
    },
    "tags": []
   },
   "source": [
    "# Question 3\n",
    "\n",
    "In the tutorial, we gave an example of a Python string with information that was better as a list."
   ]
  },
  {
   "cell_type": "code",
   "execution_count": 6,
   "id": "d515e972",
   "metadata": {
    "execution": {
     "iopub.execute_input": "2025-02-26T15:53:34.420354Z",
     "iopub.status.busy": "2025-02-26T15:53:34.419948Z",
     "iopub.status.idle": "2025-02-26T15:53:34.423988Z",
     "shell.execute_reply": "2025-02-26T15:53:34.423054Z"
    },
    "papermill": {
     "duration": 0.012254,
     "end_time": "2025-02-26T15:53:34.425630",
     "exception": false,
     "start_time": "2025-02-26T15:53:34.413376",
     "status": "completed"
    },
    "tags": []
   },
   "outputs": [],
   "source": [
    "flowers = \"pink primrose,hard-leaved pocket orchid,canterbury bells,sweet pea,english marigold,tiger lily,moon orchid,bird of paradise,monkshood,globe thistle\""
   ]
  },
  {
   "cell_type": "markdown",
   "id": "f97bb732",
   "metadata": {
    "papermill": {
     "duration": 0.005652,
     "end_time": "2025-02-26T15:53:34.437304",
     "exception": false,
     "start_time": "2025-02-26T15:53:34.431652",
     "status": "completed"
    },
    "tags": []
   },
   "source": [
    "You can actually use Python to quickly turn this string into a list with `.split()`.  In the parentheses, we need to provide the character should be used to mark the end of one list item and the beginning of another, and enclose it in quotation marks.  In this case, that character is a comma."
   ]
  },
  {
   "cell_type": "code",
   "execution_count": 7,
   "id": "3d963090",
   "metadata": {
    "execution": {
     "iopub.execute_input": "2025-02-26T15:53:34.449892Z",
     "iopub.status.busy": "2025-02-26T15:53:34.449569Z",
     "iopub.status.idle": "2025-02-26T15:53:34.454631Z",
     "shell.execute_reply": "2025-02-26T15:53:34.453631Z"
    },
    "papermill": {
     "duration": 0.013208,
     "end_time": "2025-02-26T15:53:34.456260",
     "exception": false,
     "start_time": "2025-02-26T15:53:34.443052",
     "status": "completed"
    },
    "tags": []
   },
   "outputs": [
    {
     "name": "stdout",
     "output_type": "stream",
     "text": [
      "['pink primrose', 'hard-leaved pocket orchid', 'canterbury bells', 'sweet pea', 'english marigold', 'tiger lily', 'moon orchid', 'bird of paradise', 'monkshood', 'globe thistle']\n"
     ]
    }
   ],
   "source": [
    " print(flowers.split(\",\"))"
   ]
  },
  {
   "cell_type": "markdown",
   "id": "95839e97",
   "metadata": {
    "papermill": {
     "duration": 0.005529,
     "end_time": "2025-02-26T15:53:34.467645",
     "exception": false,
     "start_time": "2025-02-26T15:53:34.462116",
     "status": "completed"
    },
    "tags": []
   },
   "source": [
    "Now it is your turn to try this out!  Create two Python lists:\n",
    "- `letters` should be a Python list where each entry is an uppercase letter of the English alphabet.  For instance, the first two entries should be `\"A\"` and `\"B\"`, and the final two entries should be `\"Y\"` and `\"Z\"`.  Use the string `alphabet` to create this list.\n",
    "- `address` should be a Python list where each row in `address` is a different item in the list.  Currently, each row in `address` is separated by a comma. "
   ]
  },
  {
   "cell_type": "code",
   "execution_count": 8,
   "id": "863e6037",
   "metadata": {
    "execution": {
     "iopub.execute_input": "2025-02-26T15:53:34.480430Z",
     "iopub.status.busy": "2025-02-26T15:53:34.480053Z",
     "iopub.status.idle": "2025-02-26T15:53:34.488385Z",
     "shell.execute_reply": "2025-02-26T15:53:34.487053Z"
    },
    "papermill": {
     "duration": 0.01679,
     "end_time": "2025-02-26T15:53:34.490181",
     "exception": false,
     "start_time": "2025-02-26T15:53:34.473391",
     "status": "completed"
    },
    "tags": []
   },
   "outputs": [
    {
     "data": {
      "application/javascript": [
       "parent.postMessage({\"jupyterEvent\": \"custom.exercise_interaction\", \"data\": {\"outcomeType\": 1, \"valueTowardsCompletion\": 0.2, \"interactionType\": 1, \"questionType\": 1, \"questionId\": \"3_SplitString\", \"learnToolsVersion\": \"0.3.4\", \"failureMessage\": \"\", \"exceptionClass\": \"\", \"trace\": \"\"}}, \"*\")"
      ],
      "text/plain": [
       "<IPython.core.display.Javascript object>"
      ]
     },
     "metadata": {},
     "output_type": "display_data"
    },
    {
     "data": {
      "text/markdown": [
       "<span style=\"color:#33cc33\">Correct</span>"
      ],
      "text/plain": [
       "Correct"
      ]
     },
     "metadata": {},
     "output_type": "display_data"
    }
   ],
   "source": [
    "# DO not change: Define two Python strings\n",
    "alphabet = \"A.B.C.D.E.F.G.H.I.J.K.L.M.N.O.P.Q.R.S.T.U.V.W.X.Y.Z\"\n",
    "address = \"Mr. H. Potter,The cupboard under the Stairs,4 Privet Drive,Little Whinging,Surrey\"\n",
    "\n",
    "# TODO: Convert strings into Python lists\n",
    "letters = alphabet.split(\".\")\n",
    "formatted_address = address.split(\",\")\n",
    "\n",
    "# Do not change: Check your answer\n",
    "q3.check()"
   ]
  },
  {
   "cell_type": "code",
   "execution_count": 9,
   "id": "7a80ba59",
   "metadata": {
    "execution": {
     "iopub.execute_input": "2025-02-26T15:53:34.504100Z",
     "iopub.status.busy": "2025-02-26T15:53:34.503726Z",
     "iopub.status.idle": "2025-02-26T15:53:34.507501Z",
     "shell.execute_reply": "2025-02-26T15:53:34.506340Z"
    },
    "papermill": {
     "duration": 0.01281,
     "end_time": "2025-02-26T15:53:34.509391",
     "exception": false,
     "start_time": "2025-02-26T15:53:34.496581",
     "status": "completed"
    },
    "tags": []
   },
   "outputs": [],
   "source": [
    "# Uncomment to see a hint\n",
    "#q3.hint()\n",
    "\n",
    "# Uncomment to see the solution\n",
    "#q3.solution()"
   ]
  },
  {
   "cell_type": "markdown",
   "id": "84042979",
   "metadata": {
    "papermill": {
     "duration": 0.005655,
     "end_time": "2025-02-26T15:53:34.521180",
     "exception": false,
     "start_time": "2025-02-26T15:53:34.515525",
     "status": "completed"
    },
    "tags": []
   },
   "source": [
    "# Question 4\n",
    "\n",
    "In the Python course, you'll learn all about **list comprehensions**, which allow you to create a list based on the values in another list.  In this question, you'll get a brief preview of how they work.\n",
    "\n",
    "Say we're working with the list below."
   ]
  },
  {
   "cell_type": "code",
   "execution_count": 10,
   "id": "03a2fb2d",
   "metadata": {
    "execution": {
     "iopub.execute_input": "2025-02-26T15:53:34.534369Z",
     "iopub.status.busy": "2025-02-26T15:53:34.533973Z",
     "iopub.status.idle": "2025-02-26T15:53:34.538218Z",
     "shell.execute_reply": "2025-02-26T15:53:34.537145Z"
    },
    "papermill": {
     "duration": 0.012762,
     "end_time": "2025-02-26T15:53:34.539818",
     "exception": false,
     "start_time": "2025-02-26T15:53:34.527056",
     "status": "completed"
    },
    "tags": []
   },
   "outputs": [],
   "source": [
    "test_ratings = [1, 2, 3, 4, 5]"
   ]
  },
  {
   "cell_type": "markdown",
   "id": "c2202375",
   "metadata": {
    "papermill": {
     "duration": 0.005709,
     "end_time": "2025-02-26T15:53:34.551883",
     "exception": false,
     "start_time": "2025-02-26T15:53:34.546174",
     "status": "completed"
    },
    "tags": []
   },
   "source": [
    "Then we can use this list (`test_ratings`) to create a new list (`test_liked`) where each item has been turned into a boolean, depending on whether or not the item is greater than or equal to four."
   ]
  },
  {
   "cell_type": "code",
   "execution_count": 11,
   "id": "5161ef62",
   "metadata": {
    "execution": {
     "iopub.execute_input": "2025-02-26T15:53:34.565072Z",
     "iopub.status.busy": "2025-02-26T15:53:34.564710Z",
     "iopub.status.idle": "2025-02-26T15:53:34.570221Z",
     "shell.execute_reply": "2025-02-26T15:53:34.569070Z"
    },
    "papermill": {
     "duration": 0.014123,
     "end_time": "2025-02-26T15:53:34.571912",
     "exception": false,
     "start_time": "2025-02-26T15:53:34.557789",
     "status": "completed"
    },
    "tags": []
   },
   "outputs": [
    {
     "name": "stdout",
     "output_type": "stream",
     "text": [
      "[False, False, False, True, True]\n"
     ]
    }
   ],
   "source": [
    "test_liked = [i>=4 for i in test_ratings]\n",
    "print(test_liked)"
   ]
  },
  {
   "cell_type": "markdown",
   "id": "143ccc66",
   "metadata": {
    "papermill": {
     "duration": 0.00576,
     "end_time": "2025-02-26T15:53:34.583858",
     "exception": false,
     "start_time": "2025-02-26T15:53:34.578098",
     "status": "completed"
    },
    "tags": []
   },
   "source": [
    "In this question, you'll use this list comprehension to define a function `percentage_liked()` that takes one argument as input:\n",
    "- `ratings`: list of ratings that people gave to a movie, where each rating is a number between 1-5, inclusive\n",
    "\n",
    "We say someone liked the movie, if they gave a rating of either 4 or 5.  Your function should return the percentage of people who liked the movie.\n",
    "\n",
    "For instance, if we supply a value of `[1, 2, 3, 4, 5, 4, 5, 1]`, then 50% (4/8) of the people liked the movie, and the function should return `0.5`.\n",
    "\n",
    "Part of the function has already been completed for you.  You need only use `list_liked` to calculate `percentage_liked`."
   ]
  },
  {
   "cell_type": "code",
   "execution_count": 12,
   "id": "2ce3028c",
   "metadata": {
    "execution": {
     "iopub.execute_input": "2025-02-26T15:53:34.597294Z",
     "iopub.status.busy": "2025-02-26T15:53:34.596897Z",
     "iopub.status.idle": "2025-02-26T15:53:34.605290Z",
     "shell.execute_reply": "2025-02-26T15:53:34.604296Z"
    },
    "papermill": {
     "duration": 0.016974,
     "end_time": "2025-02-26T15:53:34.606872",
     "exception": false,
     "start_time": "2025-02-26T15:53:34.589898",
     "status": "completed"
    },
    "tags": []
   },
   "outputs": [
    {
     "data": {
      "application/javascript": [
       "parent.postMessage({\"jupyterEvent\": \"custom.exercise_interaction\", \"data\": {\"outcomeType\": 1, \"valueTowardsCompletion\": 0.2, \"interactionType\": 1, \"questionType\": 2, \"questionId\": \"4_PercentageLiked\", \"learnToolsVersion\": \"0.3.4\", \"failureMessage\": \"\", \"exceptionClass\": \"\", \"trace\": \"\"}}, \"*\")"
      ],
      "text/plain": [
       "<IPython.core.display.Javascript object>"
      ]
     },
     "metadata": {},
     "output_type": "display_data"
    },
    {
     "data": {
      "text/markdown": [
       "<span style=\"color:#33cc33\">Correct</span>"
      ],
      "text/plain": [
       "Correct"
      ]
     },
     "metadata": {},
     "output_type": "display_data"
    }
   ],
   "source": [
    "\n",
    "def percentage_liked(ratings):\n",
    "    list_liked = [i>=4 for i in ratings]\n",
    "    # TODO: Complete the function\n",
    "    percentage_liked = sum(list_liked)/len(list_liked)\n",
    "    return percentage_liked\n",
    "\n",
    "# Do not change: should return 0.5\n",
    "percentage_liked([1, 2, 3, 4, 5, 4, 5, 1])\n",
    "\n",
    "# Do not change: Check your answer\n",
    "q4.check()"
   ]
  },
  {
   "cell_type": "code",
   "execution_count": 13,
   "id": "cc1379ac",
   "metadata": {
    "execution": {
     "iopub.execute_input": "2025-02-26T15:53:34.620835Z",
     "iopub.status.busy": "2025-02-26T15:53:34.620490Z",
     "iopub.status.idle": "2025-02-26T15:53:34.624300Z",
     "shell.execute_reply": "2025-02-26T15:53:34.623291Z"
    },
    "papermill": {
     "duration": 0.012659,
     "end_time": "2025-02-26T15:53:34.625947",
     "exception": false,
     "start_time": "2025-02-26T15:53:34.613288",
     "status": "completed"
    },
    "tags": []
   },
   "outputs": [],
   "source": [
    "# Uncomment to see a hint\n",
    "#q4.hint()\n",
    "\n",
    "# Uncomment to see the solution\n",
    "#q4.solution()"
   ]
  },
  {
   "cell_type": "markdown",
   "id": "69d952b2",
   "metadata": {
    "papermill": {
     "duration": 0.006083,
     "end_time": "2025-02-26T15:53:34.638330",
     "exception": false,
     "start_time": "2025-02-26T15:53:34.632247",
     "status": "completed"
    },
    "tags": []
   },
   "source": [
    "# 🌶️ Question 5\n",
    " \n",
    "Say you're doing analytics for a website.  You need to write a function that returns the percentage growth in the total number of users relative to a specified number of years ago.\n",
    "\n",
    "Your function `percentage_growth()` should take two arguments as input:\n",
    "- `num_users` = Python list with the total number of users each year.  So `num_users[0]` is the total number of users in the first year, `num_users[1]` is the total number of users in the second year, and so on.  The final entry in the list gives the total number of users in the most recently completed year.\n",
    "- `yrs_ago` = number of years to go back in time when calculating the growth percentage\n",
    "\n",
    "For instance, say `num_users = [920344, 1043553, 1204334, 1458996, 1503323, 1593432, 1623463, 1843064, 1930992, 2001078]`.\n",
    "- if `yrs_ago = 1`, we want the function to return a value of about `0.036`. This corresponds to a percentage growth of approximately 3.6%, calculated as (2001078 - 1930992)/1930992.\n",
    "- if `years_ago = 7`, we would want to return approximately `0.66`.  This corresponds to a percentage growth of approximately 66%, calculated as (2001078 - 1204334)/1204334.\n",
    "\n",
    "Your coworker sent you a draft of a function, but it doesn't seem to be doing the correct calculation.  Can you figure out what has gone wrong and make the needed changes?"
   ]
  },
  {
   "cell_type": "code",
   "execution_count": 14,
   "id": "0329eb30",
   "metadata": {
    "execution": {
     "iopub.execute_input": "2025-02-26T15:53:34.652122Z",
     "iopub.status.busy": "2025-02-26T15:53:34.651786Z",
     "iopub.status.idle": "2025-02-26T15:53:34.661770Z",
     "shell.execute_reply": "2025-02-26T15:53:34.660728Z"
    },
    "papermill": {
     "duration": 0.018885,
     "end_time": "2025-02-26T15:53:34.663509",
     "exception": false,
     "start_time": "2025-02-26T15:53:34.644624",
     "status": "completed"
    },
    "tags": []
   },
   "outputs": [
    {
     "name": "stdout",
     "output_type": "stream",
     "text": [
      "0.03629533421163837\n",
      "0.6615639847417742\n"
     ]
    },
    {
     "data": {
      "application/javascript": [
       "parent.postMessage({\"jupyterEvent\": \"custom.exercise_interaction\", \"data\": {\"outcomeType\": 1, \"valueTowardsCompletion\": 0.2, \"interactionType\": 1, \"questionType\": 2, \"questionId\": \"5_WebsiteAnalytics\", \"learnToolsVersion\": \"0.3.4\", \"failureMessage\": \"\", \"exceptionClass\": \"\", \"trace\": \"\"}}, \"*\")"
      ],
      "text/plain": [
       "<IPython.core.display.Javascript object>"
      ]
     },
     "metadata": {},
     "output_type": "display_data"
    },
    {
     "data": {
      "text/markdown": [
       "<span style=\"color:#33cc33\">Correct</span>"
      ],
      "text/plain": [
       "Correct"
      ]
     },
     "metadata": {},
     "output_type": "display_data"
    }
   ],
   "source": [
    "# TODO: Edit the function\n",
    "def percentage_growth(num_users, yrs_ago):\n",
    "    growth = (num_users[len(num_users)-1] - num_users[len(num_users)-yrs_ago-1])/num_users[len(num_users)-yrs_ago-1]\n",
    "    return growth\n",
    "\n",
    "# Do not change: Variable for calculating some test examples\n",
    "num_users_test = [920344, 1043553, 1204334, 1458996, 1503323, 1593432, 1623463, 1843064, 1930992, 2001078]\n",
    "\n",
    "# Do not change: Should return .036\n",
    "print(percentage_growth(num_users_test, 1))\n",
    "\n",
    "# Do not change: Should return 0.66\n",
    "print(percentage_growth(num_users_test, 7))\n",
    "\n",
    "# Do not change: Check your answer\n",
    "q5.check()"
   ]
  },
  {
   "cell_type": "code",
   "execution_count": 15,
   "id": "1b249974",
   "metadata": {
    "execution": {
     "iopub.execute_input": "2025-02-26T15:53:34.678147Z",
     "iopub.status.busy": "2025-02-26T15:53:34.677803Z",
     "iopub.status.idle": "2025-02-26T15:53:34.681618Z",
     "shell.execute_reply": "2025-02-26T15:53:34.680636Z"
    },
    "papermill": {
     "duration": 0.013065,
     "end_time": "2025-02-26T15:53:34.683356",
     "exception": false,
     "start_time": "2025-02-26T15:53:34.670291",
     "status": "completed"
    },
    "tags": []
   },
   "outputs": [],
   "source": [
    "# Uncomment to see a hint\n",
    "#q5.hint()\n",
    "\n",
    "# Uncomment to see the solution\n",
    "#q5.solution()"
   ]
  },
  {
   "cell_type": "markdown",
   "id": "35b6d95f",
   "metadata": {
    "papermill": {
     "duration": 0.006308,
     "end_time": "2025-02-26T15:53:34.696580",
     "exception": false,
     "start_time": "2025-02-26T15:53:34.690272",
     "status": "completed"
    },
    "tags": []
   },
   "source": [
    "# Congratulations!\n",
    "\n",
    "Congratulations for finishing the Intro to Programming course!  You should be proud of your very first steps with learning programming.  As next steps, we recommend taking:\n",
    "- the **[Python course](http://www.kaggle.com/learn/python)**, and \n",
    "- the **[Intro to Machine Learning course](https://www.kaggle.com/learn/intro-to-machine-learning)**."
   ]
  },
  {
   "cell_type": "markdown",
   "id": "bbe50089",
   "metadata": {
    "papermill": {
     "duration": 0.006114,
     "end_time": "2025-02-26T15:53:34.709146",
     "exception": false,
     "start_time": "2025-02-26T15:53:34.703032",
     "status": "completed"
    },
    "tags": []
   },
   "source": [
    "---\n",
    "\n",
    "\n",
    "\n",
    "\n",
    "*Have questions or comments? Visit the [course discussion forum](https://www.kaggle.com/learn/intro-to-programming/discussion) to chat with other learners.*"
   ]
  }
 ],
 "metadata": {
  "kaggle": {
   "accelerator": "none",
   "dataSources": [],
   "isGpuEnabled": false,
   "isInternetEnabled": false,
   "language": "python",
   "sourceType": "notebook"
  },
  "kernelspec": {
   "display_name": "Python 3",
   "language": "python",
   "name": "python3"
  },
  "language_info": {
   "codemirror_mode": {
    "name": "ipython",
    "version": 3
   },
   "file_extension": ".py",
   "mimetype": "text/x-python",
   "name": "python",
   "nbconvert_exporter": "python",
   "pygments_lexer": "ipython3",
   "version": "3.10.12"
  },
  "papermill": {
   "default_parameters": {},
   "duration": 5.09595,
   "end_time": "2025-02-26T15:53:35.335518",
   "environment_variables": {},
   "exception": null,
   "input_path": "__notebook__.ipynb",
   "output_path": "__notebook__.ipynb",
   "parameters": {},
   "start_time": "2025-02-26T15:53:30.239568",
   "version": "2.6.0"
  }
 },
 "nbformat": 4,
 "nbformat_minor": 5
}
