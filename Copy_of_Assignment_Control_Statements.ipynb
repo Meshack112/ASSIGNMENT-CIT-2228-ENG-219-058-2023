{
  "cells": [
    {
      "cell_type": "markdown",
      "metadata": {
        "id": "view-in-github",
        "colab_type": "text"
      },
      "source": [
        "<a href=\"https://colab.research.google.com/github/Meshack112/ASSIGNMENT-CIT-2228-ENG-219-058-2023/blob/main/Copy_of_Assignment_Control_Statements.ipynb\" target=\"_parent\"><img src=\"https://colab.research.google.com/assets/colab-badge.svg\" alt=\"Open In Colab\"/></a>"
      ]
    },
    {
      "cell_type": "markdown",
      "metadata": {
        "id": "DoHBGO7RNWyd"
      },
      "source": [
        "## Exercise 02.1 (if-else)\n",
        "\n",
        "Consider the following assessment criteria which map a score out of 100 to an\n",
        "assessment grade:\n",
        "\n",
        "| Grade            | Raw score  (/100)      |\n",
        "| ---------------- | ---------------------- |\n",
        "| Excellent        | $\\ge 85$               |\n",
        "| Very good        | $\\ge 76.5$ and $< 85$  |\n",
        "| Good             | $\\ge 64$ and $< 76.5$  |\n",
        "| Need improvement | $\\ge 40$ and $< 64$    |\n",
        "| Did you try?     | $< 40$                 |\n",
        "\n",
        "Write a program that, given an a score, prints the appropriate grade. Print an error message if the input score is greater than 100 or less than zero."
      ]
    },
    {
      "cell_type": "code",
      "execution_count": 1,
      "metadata": {
        "nbgrader": {
          "grade": false,
          "grade_id": "cell-71121f470be22e4a",
          "locked": false,
          "schema_version": 3,
          "solution": true
        },
        "tags": [],
        "id": "4Dpv1Ep5NWyg",
        "colab": {
          "base_uri": "https://localhost:8080/",
          "height": 0
        },
        "outputId": "4c4715b5-31e6-4a01-a227-8fdd9e171955"
      },
      "outputs": [
        {
          "output_type": "stream",
          "name": "stdout",
          "text": [
            "Good\n"
          ]
        }
      ],
      "source": [
        "# Score from user\n",
        "score = 72\n",
        "if score > 100 or score < 0:\n",
        "    print(\"Error: Score must be between 0 and 100.\")\n",
        "elif score >= 85:\n",
        "    print(\"Excellent\")\n",
        "elif score >= 76.5:\n",
        "    print(\"Very good\")\n",
        "elif score >= 64:\n",
        "    print(\"Good\")\n",
        "elif score >= 40:\n",
        "    print(\"Need improvement\")\n",
        "else:\n",
        "    print(\"Did you try?\")"
      ]
    },
    {
      "cell_type": "markdown",
      "metadata": {
        "id": "qGF-xbCDNWyi"
      },
      "source": [
        "## Exercise 02.2 (bisection)\n",
        "\n",
        "Bisection is an iterative method for finding approximate roots of a function. Say we know that the function $f(x)$ has one root between $x_{0}$ and $x_{1}$ ($x_{0} < x_{1}$). We then:\n",
        "\n",
        "- Evaluate $f$ at the midpoint $x_{\\rm mid} = (x_0 + x_1)/2$, i.e. compute\n",
        "   $f_{\\rm mid} = f(x_{\\rm mid})$\n",
        "- Evaluate $f(x_0) \\cdot f(x_{\\rm mid})$\n",
        "\n",
        "  - if $f(x_0) \\cdot f(x_{\\rm mid}) < 0$:\n",
        "\n",
        "    $f$ must change sign somewhere between $x_0$ and $x_{\\rm mid}$, hence the root must lie between\n",
        "    $x_0$ and $x_{\\rm mid}$, so set $x_1 = x_{\\rm mid}$.\n",
        "   \n",
        "  - else:\n",
        "\n",
        "    $f$ must change sign somewhere between $x_{\\rm mid}$ and $x_1$, so set\n",
        "    $x_0 = x_{\\rm mid}$.\n",
        "\n",
        "The above steps can be repeated a specified number of times, or until $|f_{\\rm mid}|$\n",
        "is below a tolerance, with $x_{\\rm mid}$ being the approximate root.\n",
        "\n",
        "\n",
        "### Task\n",
        "\n",
        "The function\n",
        "\n",
        "$$\n",
        "f(x) = \\frac{x^{5}}{10} + x^3 - 10x^2 + 4x + 7\n",
        "$$\n",
        "\n",
        "\n",
        "has one root in the range $0 < x < 2$.\n",
        "\n",
        "1. Use the bisection method to find an approximate root $x_{r}$ using 20 iterations\n",
        "   (use a `for` loop).\n",
        "2. Use the bisection method to find an approximate root $x_{r}$ such that\n",
        "   $\\left| f(x_{r}) \\right| < 1 \\times 10^{-6}$ and report the number of iterations\n",
        "   required (use a `while` loop).\n",
        "\n",
        "Store the approximate root using the variable `x_mid`, and store $f(x_{\\rm mid})$ using the variable `f`.\n",
        "\n",
        "*Hint:* Use  `abs` to compute the absolute value of a number, e.g. `y = abs(x)` assigns the absolute value of `x` to `y`."
      ]
    },
    {
      "cell_type": "markdown",
      "metadata": {
        "id": "5nHPrqQENWyi"
      },
      "source": [
        "#### (1) Using a `for` loop."
      ]
    },
    {
      "cell_type": "code",
      "source": [
        "# Define the function\n",
        "def f(x):\n",
        "  return (x**5) / 10 + x**3 - 10 * x**2 + 4 * x + 7\n",
        "\n",
        "# (1) Using a for loop\n",
        "x0 = 0.0\n",
        "x1 = 2.0\n",
        "\n",
        "for n in range(20):\n",
        "  x_mid = (x0 + x1) / 2\n",
        "  f0 = f(x0)\n",
        "  f_mid = f(x_mid)\n",
        "\n",
        "  if f0 * f_mid < 0:\n",
        "    x1 = x_mid\n",
        "  else:\n",
        "    x0 = x_mid\n",
        "\n",
        "#print(n, x_mid, f_mid) #To see the output, run the code.\n",
        "\n",
        "\n",
        "# (2) Using a while loop\n",
        "x0 = 0.0\n",
        "x1 = 2.0\n",
        "tol = 1.0e-6\n",
        "error = tol + 1.0\n",
        "counter = 0\n",
        "\n",
        "while error > tol:\n",
        "  x_mid = (x0 + x1) / 2\n",
        "  f0 = f(x0)\n",
        "  f_mid = f(x_mid)\n",
        "  error = abs(f_mid)\n",
        "\n",
        "  if f0 * f_mid < 0:\n",
        "    x1 = x_mid\n",
        "  else:\n",
        "    x0 = x_mid\n",
        "\n",
        "  counter += 1\n",
        "\n",
        "  if counter > 1000:\n",
        "    print(\"Oops, iteration count is very large. Breaking out of while loop.\")\n",
        "    break\n",
        "\n",
        "print(counter, x_mid, error)"
      ],
      "metadata": {
        "colab": {
          "base_uri": "https://localhost:8080/",
          "height": 0
        },
        "id": "hN77ppJO6GSP",
        "outputId": "bdb65bc0-ac53-4e6d-fb3a-594fa9e9e014"
      },
      "execution_count": 2,
      "outputs": [
        {
          "output_type": "stream",
          "name": "stdout",
          "text": [
            "24 1.1568354368209839 3.9180508970559913e-07\n"
          ]
        }
      ]
    },
    {
      "cell_type": "code",
      "execution_count": 23,
      "metadata": {
        "nbgrader": {
          "grade": true,
          "grade_id": "cell-421824bbd4e61fae",
          "locked": true,
          "points": 0,
          "schema_version": 3,
          "solution": false
        },
        "id": "Aud31k6dNWyj",
        "colab": {
          "base_uri": "https://localhost:8080/",
          "height": 193
        },
        "outputId": "c06a3dec-0414-4236-fcf3-b4fbe8a410ce"
      },
      "outputs": [
        {
          "output_type": "error",
          "ename": "AssertionError",
          "evalue": "",
          "traceback": [
            "\u001b[0;31m---------------------------------------------------------------------------\u001b[0m",
            "\u001b[0;31mAssertionError\u001b[0m                            Traceback (most recent call last)",
            "\u001b[0;32m<ipython-input-23-2fa7a19f1e12>\u001b[0m in \u001b[0;36m<cell line: 0>\u001b[0;34m()\u001b[0m\n\u001b[1;32m      1\u001b[0m \u001b[0;31m## tests ##\u001b[0m\u001b[0;34m\u001b[0m\u001b[0;34m\u001b[0m\u001b[0m\n\u001b[1;32m      2\u001b[0m \u001b[0;32mimport\u001b[0m \u001b[0mmath\u001b[0m\u001b[0;34m\u001b[0m\u001b[0;34m\u001b[0m\u001b[0m\n\u001b[0;32m----> 3\u001b[0;31m \u001b[0;32massert\u001b[0m \u001b[0mmath\u001b[0m\u001b[0;34m.\u001b[0m\u001b[0misclose\u001b[0m\u001b[0;34m(\u001b[0m\u001b[0mx_mid\u001b[0m\u001b[0;34m,\u001b[0m \u001b[0;36m1.1568355560302734\u001b[0m\u001b[0;34m)\u001b[0m\u001b[0;34m\u001b[0m\u001b[0;34m\u001b[0m\u001b[0m\n\u001b[0m\u001b[1;32m      4\u001b[0m \u001b[0;32massert\u001b[0m \u001b[0mabs\u001b[0m\u001b[0;34m(\u001b[0m\u001b[0mf\u001b[0m\u001b[0;34m)\u001b[0m \u001b[0;34m<\u001b[0m \u001b[0;36m1e-5\u001b[0m\u001b[0;34m\u001b[0m\u001b[0;34m\u001b[0m\u001b[0m\n",
            "\u001b[0;31mAssertionError\u001b[0m: "
          ]
        }
      ],
      "source": [
        "## tests ##\n",
        "import math\n",
        "assert math.isclose(x_mid, 1.1568355560302734)\n",
        "assert abs(f) < 1e-5"
      ]
    },
    {
      "cell_type": "markdown",
      "metadata": {
        "id": "YhWCVhvINWyj"
      },
      "source": [
        "#### (2) Using a `while` loop\n",
        "\n",
        "Use the variable `counter` for the iteration number.\n",
        "\n",
        "*Remember to guard against infinite loops.*"
      ]
    },
    {
      "cell_type": "code",
      "execution_count": 18,
      "metadata": {
        "nbgrader": {
          "grade": false,
          "grade_id": "cell-1747a3fb1dd1de48",
          "locked": false,
          "schema_version": 3,
          "solution": true
        },
        "tags": [],
        "id": "8H5dj4QYNWyj",
        "colab": {
          "base_uri": "https://localhost:8080/"
        },
        "outputId": "0377b7ad-4343-4827-d097-e587ec1df9ce"
      },
      "outputs": [
        {
          "output_type": "stream",
          "name": "stdout",
          "text": [
            "\n",
            "The error is: 1.5715233091147378\n",
            "Number of terms in series: 1000\n",
            "Approximation of 1/sqrt(0.16): 2.4999999999999973\n"
          ]
        }
      ],
      "source": [
        "import math\n",
        "#Value of x (such that (1 + x) = 0.16)\n",
        "x = -0.84\n",
        "\n",
        "# Tolerance and initial error\n",
        "tol = 1.0e-5\n",
        "error = tol + 1.0\n",
        "\n",
        "# Initialise approximation of function and counter\n",
        "approx_f = 0.0\n",
        "n = 0\n",
        "\n",
        "# Loop until error satisfies tolerance, with a check to avoid an infinite loop\n",
        "while error > tol and n < 1000:\n",
        "    # Calculate the nth term of the series\n",
        "    term = ((-1)**n * math.factorial(2 * n)) / (4**n * (math.factorial(n))**2) * x**n\n",
        "\n",
        "    # Add the term to the approximation\n",
        "    approx_f += term\n",
        "\n",
        "    # Calculate the error\n",
        "    error = abs(approx_f - (1 / math.sqrt(0.16 + 1))) # changed to calculate the error, which is the difference between the approximation and the actual value\n",
        "\n",
        "    # Increment counter\n",
        "    n += 1\n",
        "\n",
        "#Print the results\n",
        "print(\"\\nThe error is:\", error)\n",
        "print(\"Number of terms in series:\", n)\n",
        "print(\"Approximation of 1/sqrt(0.16):\", approx_f)"
      ]
    },
    {
      "cell_type": "code",
      "execution_count": 22,
      "metadata": {
        "nbgrader": {
          "grade": true,
          "grade_id": "cell-ddff32f44df88388",
          "locked": true,
          "points": 0,
          "schema_version": 3,
          "solution": false
        },
        "tags": [],
        "id": "829g6ktYNWyk",
        "colab": {
          "base_uri": "https://localhost:8080/",
          "height": 176
        },
        "outputId": "435a9f03-f03c-4fa9-c8cf-91f095d778a5"
      },
      "outputs": [
        {
          "output_type": "error",
          "ename": "TypeError",
          "evalue": "bad operand type for abs(): 'function'",
          "traceback": [
            "\u001b[0;31m---------------------------------------------------------------------------\u001b[0m",
            "\u001b[0;31mTypeError\u001b[0m                                 Traceback (most recent call last)",
            "\u001b[0;32m<ipython-input-22-26d7b8a156fa>\u001b[0m in \u001b[0;36m<cell line: 0>\u001b[0;34m()\u001b[0m\n\u001b[1;32m      1\u001b[0m \u001b[0;31m## tests ##\u001b[0m\u001b[0;34m\u001b[0m\u001b[0;34m\u001b[0m\u001b[0m\n\u001b[1;32m      2\u001b[0m \u001b[0;32massert\u001b[0m \u001b[0mcounter\u001b[0m \u001b[0;34m==\u001b[0m \u001b[0;36m24\u001b[0m\u001b[0;34m\u001b[0m\u001b[0;34m\u001b[0m\u001b[0m\n\u001b[0;32m----> 3\u001b[0;31m \u001b[0;32massert\u001b[0m \u001b[0mabs\u001b[0m\u001b[0;34m(\u001b[0m\u001b[0mf\u001b[0m\u001b[0;34m)\u001b[0m \u001b[0;34m<\u001b[0m \u001b[0;36m1.0e-6\u001b[0m\u001b[0;34m\u001b[0m\u001b[0;34m\u001b[0m\u001b[0m\n\u001b[0m",
            "\u001b[0;31mTypeError\u001b[0m: bad operand type for abs(): 'function'"
          ]
        }
      ],
      "source": [
        "## tests ##\n",
        "assert counter == 24\n",
        "assert abs(f) < 1.0e-6"
      ]
    },
    {
      "cell_type": "markdown",
      "metadata": {
        "id": "HIlQc4FJNWyk"
      },
      "source": [
        "## Exercise 02.3 (series expansion)\n",
        "\n",
        "For $|x| < 1$ the series:\n",
        "\n",
        "$$\n",
        "(1 + x)^{-1/2} = \\sum_{n = 0}^{\\infty} \\frac{(-1)^n (2n)!}{4^n (n!)^2} x^n\n",
        "$$\n",
        "\n",
        "converges.\n",
        "\n",
        "1. Using a `for` statement, approximate $1/\\sqrt{0.16}$ using 30 terms in the series expansion and report the absolute error.\n",
        "\n",
        "1. Using a `while` statement, compute how many terms in the series are required to approximate $1/\\sqrt{0.16}$ to within $1 \\times 10^{-5}$.\n",
        "\n",
        "Store the absolute value of the error in the variable `error`.\n",
        "\n",
        "### Hints\n",
        "\n",
        "To compute the factorial, use the Python `math` module:\n",
        "```python\n",
        "import math\n",
        "nfact = math.factorial(10)\n",
        "```\n",
        "You only need `import math` once at the top of your program. Standard modules, like `math`, will be explained in a later\n",
        "\n",
        "<!-- The power series expansion for the sine function is:\n",
        "\n",
        "$$\n",
        "\\sin(x) = \\sum_{n = 0}^{\\infty} (-1)^n \\frac{x^{2n +1}}{(2n+1)!}\n",
        "$$\n",
        "\n",
        "(See mathematics data book for a less compact version; this compact version is preferred here as it is simpler to program.)\n",
        "\n",
        "1. Using a `for` statement, approximate $\\sin(3\\pi/2)$ using 15 terms in the series expansion and report the absolute error.\n",
        "\n",
        "1. Using a `while` statement, compute how many terms in the series are required to approximate $\\sin(3\\pi/2)$ to within $1 \\times 10^{-8}$.\n",
        "\n",
        "Store the absolute value of the error in the variable `error`.\n",
        "\n",
        "*Note:* Calculators and computers use iterative or series expansions to compute trigonometric functions, similar to the one above (although they use more efficient formulations than the above series).\n",
        "\n",
        "### Hints\n",
        "\n",
        "To compute the factorial and to get a good approximation of $\\pi$, use the Python `math` module:\n",
        "```python\n",
        "import math\n",
        "nfact = math.factorial(10)\n",
        "pi = math.pi\n",
        "```\n",
        "You only need '`import math`' once at the top of your program. Standard modules, like `math`, will be explained in a later. If you want to test for angles for which sine is not simple, you can use\n",
        "```python\n",
        "a = 1.3\n",
        "s = math.sin(a)\n",
        "```    \n",
        "to get an accurate computation of sine to check the error. -->"
      ]
    },
    {
      "cell_type": "markdown",
      "metadata": {
        "id": "LEQimS1LNWyk"
      },
      "source": [
        "#### (1) Using a `for` loop"
      ]
    },
    {
      "cell_type": "code",
      "execution_count": 20,
      "metadata": {
        "nbgrader": {
          "grade": false,
          "grade_id": "cell-d6df4b428f969a5d",
          "locked": false,
          "schema_version": 3,
          "solution": true
        },
        "tags": [],
        "id": "VuyxLhMCNWyk",
        "colab": {
          "base_uri": "https://localhost:8080/"
        },
        "outputId": "fa9b4688-756c-4488-e20e-ccc06d07f8d3"
      },
      "outputs": [
        {
          "output_type": "stream",
          "name": "stdout",
          "text": [
            "The error is: 1.568331119541042\n",
            "Approximation of 1/sqrt(0.16): 2.4968078104263016\n"
          ]
        }
      ],
      "source": [
        "import math\n",
        "\n",
        "# Value of x (such that (1 + x) = 0.16)\n",
        "x = -0.84\n",
        "\n",
        "# Initialise approximation of the function\n",
        "approx_f = 0.0\n",
        "\n",
        "# Loop for 30 terms\n",
        "for n in range(30):\n",
        "    # Calculate the nth term of the series\n",
        "    term = ((-1)**n * math.factorial(2 * n)) / (4**n * (math.factorial(n))**2) * x**n\n",
        "\n",
        "    # Add the term to the approximation\n",
        "    approx_f += term\n",
        "\n",
        "# Calculate the error\n",
        "error = abs(approx_f - (1 / math.sqrt(0.16 + 1)))\n",
        "\n",
        "print(\"The error is:\", error)\n",
        "print(\"Approximation of 1/sqrt(0.16):\", approx_f)"
      ]
    },
    {
      "cell_type": "code",
      "execution_count": 21,
      "metadata": {
        "nbgrader": {
          "grade": true,
          "grade_id": "cell-8b269b717e92414d",
          "locked": true,
          "points": 0,
          "schema_version": 3,
          "solution": false
        },
        "id": "heUrD66iNWyl",
        "colab": {
          "base_uri": "https://localhost:8080/",
          "height": 159
        },
        "outputId": "1b55bd2f-9afe-40aa-eb7b-5907f8579da3"
      },
      "outputs": [
        {
          "output_type": "error",
          "ename": "AssertionError",
          "evalue": "",
          "traceback": [
            "\u001b[0;31m---------------------------------------------------------------------------\u001b[0m",
            "\u001b[0;31mAssertionError\u001b[0m                            Traceback (most recent call last)",
            "\u001b[0;32m<ipython-input-21-90d271ab5691>\u001b[0m in \u001b[0;36m<cell line: 0>\u001b[0;34m()\u001b[0m\n\u001b[1;32m      1\u001b[0m \u001b[0;31m## test ##\u001b[0m\u001b[0;34m\u001b[0m\u001b[0;34m\u001b[0m\u001b[0m\n\u001b[0;32m----> 2\u001b[0;31m \u001b[0;32massert\u001b[0m \u001b[0merror\u001b[0m \u001b[0;34m<\u001b[0m \u001b[0;36m1.0e-2\u001b[0m\u001b[0;34m\u001b[0m\u001b[0;34m\u001b[0m\u001b[0m\n\u001b[0m",
            "\u001b[0;31mAssertionError\u001b[0m: "
          ]
        }
      ],
      "source": [
        "## test ##\n",
        "assert error < 1.0e-2"
      ]
    },
    {
      "cell_type": "markdown",
      "metadata": {
        "id": "TPjAqO24NWyl"
      },
      "source": [
        "#### (2) Using a `while` loop\n",
        "\n",
        "*Remember to guard against infinite loops.*"
      ]
    },
    {
      "cell_type": "code",
      "execution_count": 24,
      "metadata": {
        "nbgrader": {
          "grade": false,
          "grade_id": "cell-03df25d83df3674e",
          "locked": false,
          "schema_version": 3,
          "solution": true
        },
        "tags": [],
        "id": "f94WVO2TNWyl",
        "colab": {
          "base_uri": "https://localhost:8080/"
        },
        "outputId": "6eceb221-f8e6-4bb5-c57f-35af9e59b455"
      },
      "outputs": [
        {
          "output_type": "stream",
          "name": "stdout",
          "text": [
            "\n",
            "The error is: 1.5715233091147378\n",
            "Number of terms in series: 1000\n"
          ]
        }
      ],
      "source": [
        "import math\n",
        "\n",
        "# Value of x (such that (1 + x) = 0.16)\n",
        "x = -0.84\n",
        "\n",
        "# Tolerance and initial error\n",
        "tol = 1.0e-5\n",
        "error = tol + 1.0\n",
        "\n",
        "# Initialise approximation of function and counter\n",
        "approx_f = 0.0\n",
        "n = 0\n",
        "\n",
        "# Loop until error satisfies tolerance, with a check to avoid an infinite loop\n",
        "while error > tol and n < 1000:\n",
        "    # Calculate the nth term of the series\n",
        "    term = ((-1)**n * math.factorial(2 * n)) / (4**n * (math.factorial(n))**2) * x**n\n",
        "\n",
        "    # Add the term to the approximation\n",
        "    approx_f += term\n",
        "\n",
        "    # Calculate the error\n",
        "    error = abs(approx_f - (1 / math.sqrt(0.16 + 1)))\n",
        "\n",
        "    # Increment counter\n",
        "    n += 1\n",
        "\n",
        "# Print the results\n",
        "print(\"\\nThe error is:\", error)\n",
        "print(\"Number of terms in series:\", n)"
      ]
    },
    {
      "cell_type": "code",
      "execution_count": 25,
      "metadata": {
        "nbgrader": {
          "grade": true,
          "grade_id": "cell-03df25d83df3674dfwe",
          "locked": true,
          "points": 0,
          "schema_version": 3,
          "solution": false
        },
        "id": "sMVDt0J0NWyl",
        "colab": {
          "base_uri": "https://localhost:8080/",
          "height": 159
        },
        "outputId": "2fc039b1-3ba9-440d-8902-6223d2ac3957"
      },
      "outputs": [
        {
          "output_type": "error",
          "ename": "AssertionError",
          "evalue": "",
          "traceback": [
            "\u001b[0;31m---------------------------------------------------------------------------\u001b[0m",
            "\u001b[0;31mAssertionError\u001b[0m                            Traceback (most recent call last)",
            "\u001b[0;32m<ipython-input-25-1a61f82aef94>\u001b[0m in \u001b[0;36m<cell line: 0>\u001b[0;34m()\u001b[0m\n\u001b[1;32m      1\u001b[0m \u001b[0;31m## test ##\u001b[0m\u001b[0;34m\u001b[0m\u001b[0;34m\u001b[0m\u001b[0m\n\u001b[0;32m----> 2\u001b[0;31m \u001b[0;32massert\u001b[0m \u001b[0merror\u001b[0m \u001b[0;34m<=\u001b[0m \u001b[0;36m1.0e-5\u001b[0m\u001b[0;34m\u001b[0m\u001b[0;34m\u001b[0m\u001b[0m\n\u001b[0m",
            "\u001b[0;31mAssertionError\u001b[0m: "
          ]
        }
      ],
      "source": [
        "## test ##\n",
        "assert error <= 1.0e-5"
      ]
    }
  ],
  "metadata": {
    "celltoolbar": "Create Assignment",
    "kernelspec": {
      "display_name": "Python 3 (ipykernel)",
      "language": "python",
      "name": "python3"
    },
    "language_info": {
      "codemirror_mode": {
        "name": "ipython",
        "version": 3
      },
      "file_extension": ".py",
      "mimetype": "text/x-python",
      "name": "python",
      "nbconvert_exporter": "python",
      "pygments_lexer": "ipython3",
      "version": "3.10.6"
    },
    "otter": {
      "OK_FORMAT": true,
      "assignment_name": "Exercises 2",
      "tests": {}
    },
    "colab": {
      "provenance": [],
      "include_colab_link": true
    }
  },
  "nbformat": 4,
  "nbformat_minor": 0
}